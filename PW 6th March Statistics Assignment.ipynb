{
 "cells": [
  {
   "cell_type": "markdown",
   "id": "1e1080f8",
   "metadata": {},
   "source": [
    "# STATISTICS ASSIGNMENT"
   ]
  },
  {
   "cell_type": "raw",
   "id": "dee9cdff",
   "metadata": {},
   "source": [
    "1.What is Statistics?\n",
    "\n",
    "Ans - Statistics is the science of collecting , organaizing and summarizng data. It is of two types \n",
    "1. Descriptive Statistics - involves organizing and summarizing data\n",
    "2. Inferential Statistics - involves using data used for drawing conclusions"
   ]
  },
  {
   "cell_type": "raw",
   "id": "ea3395e8",
   "metadata": {},
   "source": [
    "2. Define the different types of statistics and give an example of when each type might be used.\n",
    "Ans:  \n",
    "Statistics is of two types\n",
    "\n",
    "    1. Descriptive Statistics - involves organizing and summarizing data , eg - used in measure of central tendency( mean,mode,median ) , measure of dispersion ( variance , standard deviation ) , measure of distribution ( histplot , distplot , boxplot , violin plot)\n",
    "    2. Inferential Statistics - involves using data used for drawing conclusions - ( Hypothesis Testing )"
   ]
  },
  {
   "cell_type": "raw",
   "id": "acd0f75f",
   "metadata": {},
   "source": [
    "3. What are the different types of data and how do they differ from each other? Provide an example of\n",
    "each type of data.\n",
    "\n",
    "Ans: It is of two types\n",
    "    1. Quantitative data\n",
    "        1.1 Discrete - figures of data in form of whole numbers. eg - no. of bank accounts\n",
    "        1.2 Continuos - figures of data in form of range values. eg - length of river\n",
    "    2. Qualitative Data\n",
    "        2.1 Nominal - labels of data representing a range in form of category eg - ( labels , gender )\n",
    "                2.2 Ordinal - labels of data representing a range in form of category with ranks or order eg - ( customer feedback )"
   ]
  },
  {
   "cell_type": "raw",
   "id": "0b26c3e1",
   "metadata": {},
   "source": [
    "Q4. Categorise the following datasets with respect to quantitative and qualitative data types:\n",
    "(i) Grading in exam: A+, A, B+, B, C+, C, D, E - ORDINAL DATA\n",
    "(ii) Colour of mangoes: yellow, green, orange, red - NOMINAL DATA\n",
    "(iii) Height data of a class: [178.9, 179, 179.5, 176, 177.2, 178.3, 175.8,...] - CONTINUOS DATA\n",
    "(iv) Number of mangoes exported by a farm: [500, 600, 478, 672, ...] - DISCRETE DATA"
   ]
  },
  {
   "cell_type": "raw",
   "id": "4d8767ec",
   "metadata": {},
   "source": [
    "Q5. Explain the concept of levels of measurement and give an example of a variable for each level.\n",
    "\n",
    "Ans:\n",
    "\n",
    "It is of four types : \n",
    "\n",
    "1. Nominal Scale Data - Contains data which is non numerical and categorical in nature.\n",
    "     => No order in data\n",
    "     => Data has no differene and ratio\n",
    "     => eg - gender , blood group\n",
    "\n",
    "2. Ordinal Scale Data - \n",
    "    => Order in data\n",
    "    => No difference and ration\n",
    "    => eg - customer feedback , class rank of students\n",
    "   \n",
    "3. Interval Scale Data - \n",
    "    => Order in Data\n",
    "    => Difference in data\n",
    "    => No ratio in data\n",
    "    => No 0 point to start\n",
    "    => eg - temperature\n",
    "    \n",
    "4. Ratio Scale Data - \n",
    "    => Order in Data\n",
    "    => Difference in data\n",
    "    => Ratio in data\n",
    "    => Has 0 point to start\n",
    "    => eg - marks of students in a class"
   ]
  },
  {
   "cell_type": "raw",
   "id": "bd502176",
   "metadata": {},
   "source": [
    "Q6. Why is it important to understand the level of measurement when analyzing data? Provide an\n",
    "example to illustrate your answer.\n",
    "\n",
    "Ans: Level of measurement helps us to find the way tha data has to be treated so as to draw conclusion from it.\n",
    "For eg - \n",
    "let us consider the following data\n",
    "\n",
    "marks    gender   rank\n",
    "100        F       1\n",
    "90         M       2 \n",
    "80         M       3\n",
    "70         F       4\n",
    "60         F       5\n",
    "50         M       6 \n",
    "40         F       7\n",
    "\n",
    "From marks data kind of questions that can be answered are - \n",
    "1. Whats is max and min of class\n",
    "2. what is mean marks scored\n",
    "3. what is the marks scored top or low n% of students.\n",
    "\n",
    "From gender data kind of questions that can be answered are - \n",
    "1. are girls better than boys or vice versa\n",
    "2. is the gender classification count was biased to one particular category\n",
    "\n",
    "From rank data kind of questions that can be answered are - \n",
    "1. does the class has more than one top or bottom ranker\n",
    "\n",
    "\n",
    "So what we see that the kind of questions asked and answered out of data set is solely based on how we measure the level of data."
   ]
  },
  {
   "cell_type": "raw",
   "id": "e31288b7",
   "metadata": {},
   "source": [
    "Q7. How nominal data type is different from ordinal data type.\n",
    "\n",
    "Ans: The nominal data is different from ordinal data solely on the point of rank or order. The latter has order and rank to be conisdered when interpreted.\n"
   ]
  },
  {
   "cell_type": "raw",
   "id": "3b288f27",
   "metadata": {},
   "source": [
    "Q8. Which type of plot can be used to display data in terms of range?\n",
    "\n",
    "Ans: box and violin plot."
   ]
  },
  {
   "cell_type": "raw",
   "id": "04ae4325",
   "metadata": {},
   "source": [
    "Q9. Describe the difference between descriptive and inferential statistics. Give an example of each\n",
    "type of statistics and explain how they are used.\n",
    "\n",
    "Ans: Descriptive statistics summarize and describe data, providing insights into data patterns and trends. Examples include calculating the mean, median, and standard deviation of a dataset. Inferential statistics make inferences or predictions about a population based on a sample, such as hypothesis testing or confidence interval estimation. An example is conducting a t-test to determine if there is a significant difference in test scores between two groups."
   ]
  },
  {
   "cell_type": "raw",
   "id": "a6147258",
   "metadata": {},
   "source": [
    "Q10. What are some common measures of central tendency and variability used in statistics? Explain\n",
    "how each measure can be used to describe a dataset.\n",
    "\n",
    "Ans: "
   ]
  }
 ],
 "metadata": {
  "kernelspec": {
   "display_name": "Python 3 (ipykernel)",
   "language": "python",
   "name": "python3"
  },
  "language_info": {
   "codemirror_mode": {
    "name": "ipython",
    "version": 3
   },
   "file_extension": ".py",
   "mimetype": "text/x-python",
   "name": "python",
   "nbconvert_exporter": "python",
   "pygments_lexer": "ipython3",
   "version": "3.8.7"
  }
 },
 "nbformat": 4,
 "nbformat_minor": 5
}
